{
 "cells": [
  {
   "cell_type": "code",
   "execution_count": 8,
   "id": "608d2ac6",
   "metadata": {},
   "outputs": [],
   "source": [
    "# !pip install mlflow"
   ]
  },
  {
   "cell_type": "code",
   "execution_count": 9,
   "id": "2175aff6",
   "metadata": {},
   "outputs": [],
   "source": [
    "# !pip install xgboost"
   ]
  },
  {
   "cell_type": "code",
   "execution_count": 10,
   "id": "259f7bec",
   "metadata": {},
   "outputs": [],
   "source": [
    "import pandas as pd\n",
    "import mlflow\n",
    "from sklearn.preprocessing import StandardScaler\n",
    "from sklearn.model_selection import train_test_split\n",
    "from xgboost import XGBClassifier\n",
    "from sklearn.model_selection import RandomizedSearchCV\n",
    "from sklearn.model_selection import KFold\n",
    "from sklearn.pipeline import make_pipeline\n",
    "from sklearn.metrics import accuracy_score, classification_report,ConfusionMatrixDisplay, \\\n",
    "                            precision_score, recall_score, f1_score, roc_auc_score, \\\n",
    "                            roc_curve,confusion_matrix"
   ]
  },
  {
   "cell_type": "code",
   "execution_count": 11,
   "id": "ccd788ce",
   "metadata": {},
   "outputs": [
    {
     "data": {
      "text/html": [
       "<div>\n",
       "<style scoped>\n",
       "    .dataframe tbody tr th:only-of-type {\n",
       "        vertical-align: middle;\n",
       "    }\n",
       "\n",
       "    .dataframe tbody tr th {\n",
       "        vertical-align: top;\n",
       "    }\n",
       "\n",
       "    .dataframe thead th {\n",
       "        text-align: right;\n",
       "    }\n",
       "</style>\n",
       "<table border=\"1\" class=\"dataframe\">\n",
       "  <thead>\n",
       "    <tr style=\"text-align: right;\">\n",
       "      <th></th>\n",
       "      <th>checking_status</th>\n",
       "      <th>duration</th>\n",
       "      <th>credit_history</th>\n",
       "      <th>purpose</th>\n",
       "      <th>credit_amount</th>\n",
       "      <th>savings_status</th>\n",
       "      <th>employment</th>\n",
       "      <th>installment_commitment</th>\n",
       "      <th>personal_status</th>\n",
       "      <th>other_parties</th>\n",
       "      <th>...</th>\n",
       "      <th>property_magnitude</th>\n",
       "      <th>age</th>\n",
       "      <th>other_payment_plans</th>\n",
       "      <th>housing</th>\n",
       "      <th>existing_credits</th>\n",
       "      <th>job</th>\n",
       "      <th>num_dependents</th>\n",
       "      <th>own_telephone</th>\n",
       "      <th>foreign_worker</th>\n",
       "      <th>class</th>\n",
       "    </tr>\n",
       "  </thead>\n",
       "  <tbody>\n",
       "    <tr>\n",
       "      <th>0</th>\n",
       "      <td>1</td>\n",
       "      <td>2</td>\n",
       "      <td>1</td>\n",
       "      <td>6</td>\n",
       "      <td>142</td>\n",
       "      <td>4</td>\n",
       "      <td>3</td>\n",
       "      <td>3</td>\n",
       "      <td>3</td>\n",
       "      <td>2</td>\n",
       "      <td>...</td>\n",
       "      <td>3</td>\n",
       "      <td>48</td>\n",
       "      <td>1</td>\n",
       "      <td>1</td>\n",
       "      <td>1</td>\n",
       "      <td>1</td>\n",
       "      <td>0</td>\n",
       "      <td>1</td>\n",
       "      <td>1</td>\n",
       "      <td>1</td>\n",
       "    </tr>\n",
       "    <tr>\n",
       "      <th>1</th>\n",
       "      <td>0</td>\n",
       "      <td>29</td>\n",
       "      <td>3</td>\n",
       "      <td>6</td>\n",
       "      <td>770</td>\n",
       "      <td>2</td>\n",
       "      <td>0</td>\n",
       "      <td>1</td>\n",
       "      <td>0</td>\n",
       "      <td>2</td>\n",
       "      <td>...</td>\n",
       "      <td>3</td>\n",
       "      <td>3</td>\n",
       "      <td>1</td>\n",
       "      <td>1</td>\n",
       "      <td>0</td>\n",
       "      <td>1</td>\n",
       "      <td>0</td>\n",
       "      <td>0</td>\n",
       "      <td>1</td>\n",
       "      <td>0</td>\n",
       "    </tr>\n",
       "    <tr>\n",
       "      <th>2</th>\n",
       "      <td>3</td>\n",
       "      <td>8</td>\n",
       "      <td>1</td>\n",
       "      <td>2</td>\n",
       "      <td>390</td>\n",
       "      <td>2</td>\n",
       "      <td>1</td>\n",
       "      <td>1</td>\n",
       "      <td>3</td>\n",
       "      <td>2</td>\n",
       "      <td>...</td>\n",
       "      <td>3</td>\n",
       "      <td>30</td>\n",
       "      <td>1</td>\n",
       "      <td>1</td>\n",
       "      <td>0</td>\n",
       "      <td>3</td>\n",
       "      <td>1</td>\n",
       "      <td>0</td>\n",
       "      <td>1</td>\n",
       "      <td>1</td>\n",
       "    </tr>\n",
       "    <tr>\n",
       "      <th>3</th>\n",
       "      <td>1</td>\n",
       "      <td>26</td>\n",
       "      <td>3</td>\n",
       "      <td>3</td>\n",
       "      <td>848</td>\n",
       "      <td>2</td>\n",
       "      <td>1</td>\n",
       "      <td>1</td>\n",
       "      <td>3</td>\n",
       "      <td>1</td>\n",
       "      <td>...</td>\n",
       "      <td>1</td>\n",
       "      <td>26</td>\n",
       "      <td>1</td>\n",
       "      <td>0</td>\n",
       "      <td>0</td>\n",
       "      <td>1</td>\n",
       "      <td>1</td>\n",
       "      <td>0</td>\n",
       "      <td>1</td>\n",
       "      <td>1</td>\n",
       "    </tr>\n",
       "    <tr>\n",
       "      <th>4</th>\n",
       "      <td>1</td>\n",
       "      <td>17</td>\n",
       "      <td>2</td>\n",
       "      <td>4</td>\n",
       "      <td>734</td>\n",
       "      <td>2</td>\n",
       "      <td>0</td>\n",
       "      <td>2</td>\n",
       "      <td>3</td>\n",
       "      <td>2</td>\n",
       "      <td>...</td>\n",
       "      <td>2</td>\n",
       "      <td>34</td>\n",
       "      <td>1</td>\n",
       "      <td>0</td>\n",
       "      <td>1</td>\n",
       "      <td>1</td>\n",
       "      <td>1</td>\n",
       "      <td>0</td>\n",
       "      <td>1</td>\n",
       "      <td>0</td>\n",
       "    </tr>\n",
       "  </tbody>\n",
       "</table>\n",
       "<p>5 rows × 21 columns</p>\n",
       "</div>"
      ],
      "text/plain": [
       "   checking_status  duration  credit_history  purpose  credit_amount  \\\n",
       "0                1         2               1        6            142   \n",
       "1                0        29               3        6            770   \n",
       "2                3         8               1        2            390   \n",
       "3                1        26               3        3            848   \n",
       "4                1        17               2        4            734   \n",
       "\n",
       "   savings_status  employment  installment_commitment  personal_status  \\\n",
       "0               4           3                       3                3   \n",
       "1               2           0                       1                0   \n",
       "2               2           1                       1                3   \n",
       "3               2           1                       1                3   \n",
       "4               2           0                       2                3   \n",
       "\n",
       "   other_parties  ...  property_magnitude  age  other_payment_plans  housing  \\\n",
       "0              2  ...                   3   48                    1        1   \n",
       "1              2  ...                   3    3                    1        1   \n",
       "2              2  ...                   3   30                    1        1   \n",
       "3              1  ...                   1   26                    1        0   \n",
       "4              2  ...                   2   34                    1        0   \n",
       "\n",
       "   existing_credits  job  num_dependents  own_telephone  foreign_worker  class  \n",
       "0                 1    1               0              1               1      1  \n",
       "1                 0    1               0              0               1      0  \n",
       "2                 0    3               1              0               1      1  \n",
       "3                 0    1               1              0               1      1  \n",
       "4                 1    1               1              0               1      0  \n",
       "\n",
       "[5 rows x 21 columns]"
      ]
     },
     "execution_count": 11,
     "metadata": {},
     "output_type": "execute_result"
    }
   ],
   "source": [
    "data = pd.read_csv('process.csv', index_col=0)\n",
    "data.head()"
   ]
  },
  {
   "cell_type": "code",
   "execution_count": 12,
   "id": "ca8019f6",
   "metadata": {},
   "outputs": [],
   "source": [
    "# Independent and dependent data\n",
    "x = data[data.columns.difference(['class'])]\n",
    "y = data['class']"
   ]
  },
  {
   "cell_type": "code",
   "execution_count": 13,
   "id": "82067975",
   "metadata": {},
   "outputs": [
    {
     "data": {
      "text/plain": [
       "array([[ 2.78850999, -0.4645937 , -1.15669474, ...,  0.62648137,\n",
       "         1.04698668,  1.66990103],\n",
       "       [-1.19773321, -1.26286467,  1.21764107, ...,  0.62648137,\n",
       "        -0.76597727, -0.13053135],\n",
       "       [ 1.19401271,  1.13194823, -0.21905894, ..., -1.02650377,\n",
       "         0.14050471, -0.13053135],\n",
       "       ...,\n",
       "       [ 0.21959771,  1.13194823, -1.43269237, ...,  0.62648137,\n",
       "         1.04698668, -0.13053135],\n",
       "       [-1.10915003, -0.4645937 , -0.43834473, ...,  0.62648137,\n",
       "         1.04698668, -0.13053135],\n",
       "       [-0.7548173 , -1.26286467,  0.99457449, ...,  1.86622023,\n",
       "         1.04698668, -1.93096373]])"
      ]
     },
     "execution_count": 13,
     "metadata": {},
     "output_type": "execute_result"
    }
   ],
   "source": [
    "# Scaler data\n",
    "scaler =  StandardScaler()\n",
    "Xscale  = scaler.fit_transform(x)\n",
    "Xscale"
   ]
  },
  {
   "cell_type": "code",
   "execution_count": 14,
   "id": "9d15eaf8",
   "metadata": {},
   "outputs": [
    {
     "data": {
      "text/plain": [
       "((800, 20), (200, 20), (800,), (200,))"
      ]
     },
     "execution_count": 14,
     "metadata": {},
     "output_type": "execute_result"
    }
   ],
   "source": [
    "# train test split\n",
    "X_train, X_test, y_train, y_test = train_test_split(Xscale, y, test_size = 0.20, random_state=42)\n",
    "X_train.shape, X_test.shape, y_train.shape, y_test.shape"
   ]
  },
  {
   "cell_type": "code",
   "execution_count": 41,
   "id": "43575e58",
   "metadata": {},
   "outputs": [],
   "source": [
    "# local notebook mlflow \n",
    "# mlflow.set_tracking_uri(\"sqlite:///mlflow.db\")\n",
    "# mlflow.set_experiment(\"xgboost-ml\")\n",
    "\n",
    "# mlflow.client\n",
    "# from mlflow.tracking import MlflowClient\n",
    "# client = MlflowClient(\"sqlite:///mlflow.db\")"
   ]
  },
  {
   "cell_type": "code",
   "execution_count": 43,
   "id": "67a6a4c7-dc66-490d-95f7-07a82668006f",
   "metadata": {},
   "outputs": [
    {
     "name": "stdout",
     "output_type": "stream",
     "text": [
      "tracking URI: 'http://127.0.0.1:5000'\n"
     ]
    }
   ],
   "source": [
    "# mlflow ui setup\n",
    "import mlflow\n",
    "\n",
    "mlflow.set_tracking_uri(\"http://127.0.0.1:5000\")\n",
    "print(f\"tracking URI: '{mlflow.get_tracking_uri()}'\")"
   ]
  },
  {
   "cell_type": "code",
   "execution_count": 45,
   "id": "c483b302",
   "metadata": {},
   "outputs": [
    {
     "name": "stderr",
     "output_type": "stream",
     "text": [
      "2024/07/22 14:52:37 INFO mlflow.tracking.fluent: Experiment with name 'xgboost-ml' does not exist. Creating a new experiment.\n",
      "C:\\Users\\sudwa\\anaconda3\\Lib\\site-packages\\sklearn\\model_selection\\_search.py:318: UserWarning: The total space of parameters 12 is smaller than n_iter=100. Running 12 iterations. For exhaustive searches, use GridSearchCV.\n",
      "  warnings.warn(\n"
     ]
    },
    {
     "name": "stdout",
     "output_type": "stream",
     "text": [
      "Fitting 30 folds for each of 12 candidates, totalling 360 fits\n",
      "{'min_child_weight': 5, 'max_depth': 7}\n"
     ]
    }
   ],
   "source": [
    "# first run\n",
    "mlflow.set_experiment(\"xgboost-ml\")\n",
    "xgboost_params = {\n",
    "    'max_depth':range(3,10,2),\n",
    "    'min_child_weight':range(1,6,2)\n",
    "}\n",
    "kf = KFold(n_splits=30)\n",
    "           \n",
    "with mlflow.start_run():\n",
    "    mlflow.set_tag(\"model\",\"XGBClassifier\")\n",
    "    mlflow.log_param(\"xgboost_params\",xgboost_params)\n",
    "\n",
    "    randomcv_models = XGBClassifier()\n",
    "\n",
    "    random = RandomizedSearchCV(estimator=randomcv_models,\n",
    "                                        param_distributions=xgboost_params,\n",
    "                                       n_iter=100,\n",
    "                                       cv=kf,\n",
    "                                       verbose=2, \n",
    "                                       n_jobs=-1)\n",
    "    random.fit(X_train, y_train)\n",
    "    print(random.best_params_)\n",
    "    \n",
    "    y_pred = random.predict(X_test)\n",
    "\n",
    "    mlflow.sklearn.log_model(random, artifact_path=\"models\")"
   ]
  },
  {
   "cell_type": "code",
   "execution_count": 47,
   "id": "2df8d2da",
   "metadata": {},
   "outputs": [
    {
     "data": {
      "text/plain": [
       "[<Experiment: artifact_location='mlflow-artifacts:/3', creation_time=1721685157391, experiment_id='3', last_update_time=1721685157391, lifecycle_stage='active', name='xgboost-ml', tags={}>,\n",
       " <Experiment: artifact_location='mlflow-artifacts:/2', creation_time=1721174520861, experiment_id='2', last_update_time=1721174520861, lifecycle_stage='active', name='my-experiment-3', tags={}>,\n",
       " <Experiment: artifact_location='mlflow-artifacts:/1', creation_time=1721174454461, experiment_id='1', last_update_time=1721174454461, lifecycle_stage='active', name='my-experiment-2', tags={}>,\n",
       " <Experiment: artifact_location='mlflow-artifacts:/0', creation_time=1721174343796, experiment_id='0', last_update_time=1721174343796, lifecycle_stage='active', name='Default', tags={}>]"
      ]
     },
     "execution_count": 47,
     "metadata": {},
     "output_type": "execute_result"
    }
   ],
   "source": [
    "# first search\n",
    "mlflow.search_experiments()"
   ]
  },
  {
   "cell_type": "code",
   "execution_count": null,
   "id": "d0d6b375",
   "metadata": {},
   "outputs": [],
   "source": []
  },
  {
   "cell_type": "code",
   "execution_count": 50,
   "id": "1b60fe9e",
   "metadata": {},
   "outputs": [
    {
     "name": "stderr",
     "output_type": "stream",
     "text": [
      "2024/07/22 14:56:20 INFO mlflow.tracking.fluent: Experiment with name 'xgboost-ml-2' does not exist. Creating a new experiment.\n",
      "C:\\Users\\sudwa\\anaconda3\\Lib\\site-packages\\sklearn\\model_selection\\_search.py:318: UserWarning: The total space of parameters 12 is smaller than n_iter=100. Running 12 iterations. For exhaustive searches, use GridSearchCV.\n",
      "  warnings.warn(\n"
     ]
    },
    {
     "name": "stdout",
     "output_type": "stream",
     "text": [
      "Fitting 30 folds for each of 12 candidates, totalling 360 fits\n",
      "{'min_child_weight': 5, 'max_depth': 7}\n",
      "default artifacts URI: 'mlflow-artifacts:/4/2500e761510d443088845f7cb633db35/artifacts'\n"
     ]
    }
   ],
   "source": [
    "#second run\n",
    "mlflow.set_experiment(\"xgboost-ml-2\")\n",
    "\n",
    "xgboost_params = {\n",
    "    'max_depth':range(3,10,2),\n",
    "    'min_child_weight':range(1,6,2)\n",
    "}\n",
    "kf = KFold(n_splits=30)\n",
    "           \n",
    "with mlflow.start_run():\n",
    "    mlflow.set_tag(\"model\",\"XGBClassifier\")\n",
    "    mlflow.log_param(\"xgboost_params\",xgboost_params)\n",
    "\n",
    "    randomcv_models = XGBClassifier()\n",
    "\n",
    "    random = RandomizedSearchCV(estimator=randomcv_models,\n",
    "                                        param_distributions=xgboost_params,\n",
    "                                       n_iter=100,\n",
    "                                       cv=kf,\n",
    "                                       verbose=2, \n",
    "                                       n_jobs=-1)\n",
    "    random.fit(X_train, y_train)\n",
    "    print(random.best_params_)\n",
    "    \n",
    "    y_pred = random.predict(X_test)\n",
    "\n",
    "    mlflow.sklearn.log_model(random, artifact_path=\"models\")\n",
    "    print(f\"default artifacts URI: '{mlflow.get_artifact_uri()}'\")"
   ]
  },
  {
   "cell_type": "code",
   "execution_count": 52,
   "id": "79964816-8912-43e7-87ed-72f71f795448",
   "metadata": {},
   "outputs": [
    {
     "data": {
      "text/plain": [
       "[<Experiment: artifact_location='mlflow-artifacts:/4', creation_time=1721685380881, experiment_id='4', last_update_time=1721685380881, lifecycle_stage='active', name='xgboost-ml-2', tags={}>,\n",
       " <Experiment: artifact_location='mlflow-artifacts:/3', creation_time=1721685157391, experiment_id='3', last_update_time=1721685157391, lifecycle_stage='active', name='xgboost-ml', tags={}>,\n",
       " <Experiment: artifact_location='mlflow-artifacts:/0', creation_time=1721174343796, experiment_id='0', last_update_time=1721174343796, lifecycle_stage='active', name='Default', tags={}>]"
      ]
     },
     "execution_count": 52,
     "metadata": {},
     "output_type": "execute_result"
    }
   ],
   "source": [
    "# Second search\n",
    "mlflow.search_experiments()"
   ]
  },
  {
   "cell_type": "code",
   "execution_count": 54,
   "id": "ff376b9a",
   "metadata": {},
   "outputs": [
    {
     "name": "stderr",
     "output_type": "stream",
     "text": [
      "2024/07/22 14:59:12 INFO mlflow.tracking.fluent: Experiment with name 'xgboost-ml-3' does not exist. Creating a new experiment.\n",
      "C:\\Users\\sudwa\\anaconda3\\Lib\\site-packages\\sklearn\\model_selection\\_search.py:318: UserWarning: The total space of parameters 12 is smaller than n_iter=100. Running 12 iterations. For exhaustive searches, use GridSearchCV.\n",
      "  warnings.warn(\n"
     ]
    },
    {
     "name": "stdout",
     "output_type": "stream",
     "text": [
      "Fitting 30 folds for each of 12 candidates, totalling 360 fits\n",
      "{'min_child_weight': 5, 'max_depth': 7}\n",
      "default artifacts URI: 'mlflow-artifacts:/5/55ec22ab2e02409aac217278a8db3d3a/artifacts'\n"
     ]
    }
   ],
   "source": [
    "#third run\n",
    "mlflow.set_experiment(\"xgboost-ml-3\")\n",
    "xgboost_params = {\n",
    "    'max_depth':range(3,10,2),\n",
    "    'min_child_weight':range(1,6,2)\n",
    "}\n",
    "kf = KFold(n_splits=30)\n",
    "\n",
    "with mlflow.start_run():\n",
    "    mlflow.set_tag(\"model\",\"XGBClassifier\")\n",
    "    mlflow.log_param(\"xgboost_params\",xgboost_params)\n",
    "\n",
    "    randomcv_models = XGBClassifier()\n",
    "\n",
    "    random = RandomizedSearchCV(estimator=randomcv_models,\n",
    "                                        param_distributions=xgboost_params,\n",
    "                                       n_iter=100,\n",
    "                                       cv=kf,\n",
    "                                       verbose=2, \n",
    "                                       n_jobs=-1)\n",
    "    random.fit(X_train, y_train)\n",
    "    print(random.best_params_)\n",
    "    \n",
    "    y_pred = random.predict(X_test)\n",
    "\n",
    "    mlflow.sklearn.log_model(random, artifact_path=\"models\")\n",
    "    print(f\"default artifacts URI: '{mlflow.get_artifact_uri()}'\")"
   ]
  },
  {
   "cell_type": "code",
   "execution_count": 57,
   "id": "b65162a2",
   "metadata": {},
   "outputs": [
    {
     "data": {
      "text/plain": [
       "[<Experiment: artifact_location='mlflow-artifacts:/5', creation_time=1721685552484, experiment_id='5', last_update_time=1721685552484, lifecycle_stage='active', name='xgboost-ml-3', tags={}>,\n",
       " <Experiment: artifact_location='mlflow-artifacts:/4', creation_time=1721685380881, experiment_id='4', last_update_time=1721685380881, lifecycle_stage='active', name='xgboost-ml-2', tags={}>,\n",
       " <Experiment: artifact_location='mlflow-artifacts:/3', creation_time=1721685157391, experiment_id='3', last_update_time=1721685157391, lifecycle_stage='active', name='xgboost-ml', tags={}>,\n",
       " <Experiment: artifact_location='mlflow-artifacts:/0', creation_time=1721174343796, experiment_id='0', last_update_time=1721174343796, lifecycle_stage='active', name='Default', tags={}>]"
      ]
     },
     "execution_count": 57,
     "metadata": {},
     "output_type": "execute_result"
    }
   ],
   "source": [
    "# Third search\n",
    "mlflow.search_experiments()"
   ]
  },
  {
   "cell_type": "code",
   "execution_count": 113,
   "id": "2c6f8caf-cd97-4d66-8f48-18789c617d07",
   "metadata": {},
   "outputs": [
    {
     "name": "stdout",
     "output_type": "stream",
     "text": [
      "('artifact_location', 'mlflow-artifacts:/3')\n",
      "('creation_time', 1721685157391)\n",
      "('experiment_id', '3')\n",
      "('last_update_time', 1721685157391)\n",
      "('lifecycle_stage', 'active')\n",
      "('name', 'xgboost-ml')\n",
      "('tags', {})\n"
     ]
    }
   ],
   "source": [
    "from mlflow.tracking import MlflowClient\n",
    "\n",
    "client = MlflowClient()\n",
    "model_name = \"xgboost-ml\"\n",
    "\n",
    "# latest_versions = client.get_latest_versions(model_name)\n",
    "\n",
    "latest_versions = client.get_experiment_by_name(name=model_name)\n",
    "for version in latest_versions:\n",
    "    print(version)\n",
    "    "
   ]
  },
  {
   "cell_type": "code",
   "execution_count": 125,
   "id": "dbf9f10a-e1bc-4e17-b243-5b5a946beb36",
   "metadata": {},
   "outputs": [],
   "source": [
    "# model_name = \"xgboost-ml\"\n",
    "# model_version = 3\n",
    "# new_stage = \"Staging\"\n",
    "# client.transition_model_version_stage(\n",
    "#     name=model_name,\n",
    "#     version=model_version,\n",
    "#     stage=new_stage,\n",
    "#     archive_existing_versions=False\n",
    "# )"
   ]
  },
  {
   "cell_type": "code",
   "execution_count": 127,
   "id": "e98aaa9c-548b-43cc-8e59-73df1f351145",
   "metadata": {},
   "outputs": [],
   "source": [
    "def test_model(name, stage, X_test, y_test):\n",
    "    model = mlflow.pyfunc.load_model(f\"models:/{name}/{stage}\")\n",
    "    y_pred = model.predict(X_test)\n",
    "    return {\"rmse\": mean_squared_error(y_test, y_pred, squared=False)}"
   ]
  },
  {
   "cell_type": "code",
   "execution_count": 59,
   "id": "07fa2af3",
   "metadata": {},
   "outputs": [],
   "source": [
    "# interacting model registry"
   ]
  },
  {
   "cell_type": "code",
   "execution_count": 67,
   "id": "3eefd45c-6a95-4ff7-bb99-2877fef01f48",
   "metadata": {},
   "outputs": [
    {
     "name": "stdout",
     "output_type": "stream",
     "text": [
      "<Experiment: artifact_location='mlflow-artifacts:/3', creation_time=1721685157391, experiment_id='3', last_update_time=1721685157391, lifecycle_stage='active', name='xgboost-ml', tags={}>\n"
     ]
    }
   ],
   "source": [
    "from mlflow.tracking import MlflowClient\n",
    "\n",
    "client = MlflowClient(\"http://127.0.0.1:5000\")\n",
    "\n",
    "run_id=client.get_experiment(experiment_id='3')\n",
    "\n",
    "print(run_id)"
   ]
  },
  {
   "cell_type": "code",
   "execution_count": 69,
   "id": "34f7a752-6abb-4948-b7b1-cf6361396d80",
   "metadata": {},
   "outputs": [
    {
     "name": "stdout",
     "output_type": "stream",
     "text": [
      "<RegisteredModel: aliases={}, creation_timestamp=1721686254663, description='', last_updated_timestamp=1721686254663, latest_versions=[], name='xgboost-ml-3', tags={}>\n"
     ]
    }
   ],
   "source": [
    "id = client.create_registered_model(name='xgboost-ml-3')\n",
    "print(id)"
   ]
  },
  {
   "cell_type": "code",
   "execution_count": null,
   "id": "449bd5a8-a2a4-4065-8995-004f6c1a06bb",
   "metadata": {},
   "outputs": [],
   "source": [
    "# model-version\n",
    "client = MlflowClient()\n",
    "result = client.create_model_version(\n",
    "    name='xgboost-ml-3')"
   ]
  },
  {
   "cell_type": "code",
   "execution_count": null,
   "id": "32c969e4",
   "metadata": {},
   "outputs": [],
   "source": [
    "# final aws ec2 main script file"
   ]
  },
  {
   "cell_type": "code",
   "execution_count": 30,
   "id": "7cce3dd1",
   "metadata": {},
   "outputs": [
    {
     "name": "stdout",
     "output_type": "stream",
     "text": [
      "Fitting 30 folds for each of 12 candidates, totalling 360 fits\n",
      "{'min_child_weight': 3, 'max_depth': 5}\n"
     ]
    }
   ],
   "source": [
    "# Hypertunning Random_search \n",
    "xgboost_params = {\n",
    "    'max_depth':range(3,10,2),\n",
    "    'min_child_weight':range(1,6,2)\n",
    "}\n",
    "\n",
    "kf = KFold(n_splits=30)\n",
    "\n",
    "model_param = {}\n",
    "\n",
    "randomcv_models = XGBClassifier()\n",
    "\n",
    "random = RandomizedSearchCV(estimator=randomcv_models,\n",
    "                                    param_distributions=xgboost_params,\n",
    "                                   n_iter=100,\n",
    "                                   cv=kf,\n",
    "                                   verbose=2, \n",
    "                                   n_jobs=-1)\n",
    "random.fit(Xscale, y)\n",
    "model_param = random.best_params_\n",
    "print(model_param)\n"
   ]
  },
  {
   "cell_type": "code",
   "execution_count": null,
   "id": "5efc359b",
   "metadata": {},
   "outputs": [],
   "source": [
    "model_param = {\n",
    "                'max_depth':9,\n",
    "                'min_child_weight':8\n",
    "                }"
   ]
  },
  {
   "cell_type": "code",
   "execution_count": 23,
   "id": "1a6a6d23",
   "metadata": {},
   "outputs": [
    {
     "name": "stdout",
     "output_type": "stream",
     "text": [
      "FINAL MODEL 'XGBoost'\n",
      "Accuracy Score value: 0.8200\n",
      "              precision    recall  f1-score   support\n",
      "\n",
      "           0       0.73      0.61      0.67        59\n",
      "           1       0.85      0.91      0.88       141\n",
      "\n",
      "    accuracy                           0.82       200\n",
      "   macro avg       0.79      0.76      0.77       200\n",
      "weighted avg       0.81      0.82      0.81       200\n",
      "\n"
     ]
    }
   ],
   "source": [
    "params = {'min_child_weight': 3, 'max_depth': 5}\n",
    "\n",
    "best_model = XGBClassifier(**params)\n",
    "best_model = best_model.fit(X_train,y_train)\n",
    "y_pred = best_model.predict(X_test)\n",
    "score = accuracy_score(y_test,y_pred)\n",
    "cr = classification_report(y_test,y_pred)\n",
    "\n",
    "print(\"FINAL MODEL 'XGBoost'\")\n",
    "print (\"Accuracy Score value: {:.4f}\".format(score))\n",
    "print (cr)"
   ]
  },
  {
   "cell_type": "code",
   "execution_count": 21,
   "id": "229baf44",
   "metadata": {},
   "outputs": [
    {
     "name": "stdout",
     "output_type": "stream",
     "text": [
      "tracking URI: 'http://127.0.0.1:5000'\n"
     ]
    }
   ],
   "source": [
    "import mlflow\n",
    "from mlflow.tracking import MlflowClient\n",
    "from mlflow.entities import ViewType\n",
    "\n",
    "mlflow.set_tracking_uri(\"http://127.0.0.1:5000\")\n",
    "print(f\"tracking URI: '{mlflow.get_tracking_uri()}'\")"
   ]
  },
  {
   "cell_type": "code",
   "execution_count": 23,
   "id": "642b44d4",
   "metadata": {},
   "outputs": [
    {
     "name": "stderr",
     "output_type": "stream",
     "text": [
      "2024/07/24 14:28:46 INFO mlflow.tracking.fluent: Experiment with name 'xgboost-ml-day-1' does not exist. Creating a new experiment.\n"
     ]
    },
    {
     "name": "stdout",
     "output_type": "stream",
     "text": [
      "Fitting 30 folds for each of 10 candidates, totalling 300 fits\n",
      "{'min_child_weight': 5, 'max_depth': 7}\n",
      "default artifacts URI: 'file:///C:/Users/sudwa/Desktop/mlops-credit-card-risk/notebook/artifacts/5/4c1ee4c2854f492d84bcf1bf7ad16801/artifacts'\n"
     ]
    }
   ],
   "source": [
    "mlflow.set_experiment(\"xgboost-ml-day-1\")\n",
    "\n",
    "xgboost_params = {\n",
    "    'max_depth':range(3,10,2),\n",
    "    'min_child_weight':range(1,6,2)\n",
    "}\n",
    "kf = KFold(n_splits=30)\n",
    "\n",
    "with mlflow.start_run():\n",
    "    mlflow.set_tag(\"model\",\"XGBClassifier\")\n",
    "#     mlflow.log_param(\"xgboost_params\",xgboost_params)\n",
    "\n",
    "    randomcv_models = XGBClassifier()\n",
    "\n",
    "    random = RandomizedSearchCV(estimator=randomcv_models,\n",
    "                                        param_distributions=xgboost_params,\n",
    "                                       n_iter=10,\n",
    "                                       cv=kf,\n",
    "                                       verbose=1, \n",
    "                                       n_jobs=-1)\n",
    "    random.fit(X_train, y_train)\n",
    "    \n",
    "    print(random.best_params_)\n",
    "    \n",
    "    mlflow.log_param(\"params\",random.best_params_)\n",
    "    \n",
    "    y_pred = random.predict(X_test)\n",
    "    score = accuracy_score(y_test,y_pred)\n",
    "    \n",
    "    mlflow.log_metric(\"score\",score)\n",
    "\n",
    "    mlflow.sklearn.log_model(random, artifact_path=\"models\")\n",
    "    print(f\"default artifacts URI: '{mlflow.get_artifact_uri()}'\")"
   ]
  },
  {
   "cell_type": "code",
   "execution_count": 24,
   "id": "15f3bfe8",
   "metadata": {},
   "outputs": [],
   "source": [
    "EXPERIMENT_NAME = \"xgboost-ml-day-1\"\n",
    "MODEL_NAME = \"random\"\n",
    "\n",
    "client = MlflowClient()\n",
    "experiment = client.get_experiment_by_name(EXPERIMENT_NAME)\n",
    "best_run = client.search_runs(\n",
    "    experiment_ids=experiment.experiment_id,\n",
    "    run_view_type=ViewType.ACTIVE_ONLY,\n",
    "    max_results=1,\n",
    "    order_by=[\"metrics.score asc\"],\n",
    ")[0]"
   ]
  },
  {
   "cell_type": "code",
   "execution_count": 26,
   "id": "616b4b42",
   "metadata": {},
   "outputs": [
    {
     "name": "stderr",
     "output_type": "stream",
     "text": [
      "Successfully registered model 'random'.\n",
      "2024/07/24 14:31:21 INFO mlflow.store.model_registry.abstract_store: Waiting up to 300 seconds for model version to finish creation. Model name: random, version 1\n",
      "Created version '1' of model 'random'.\n"
     ]
    },
    {
     "data": {
      "text/plain": [
       "<RegisteredModel: aliases={}, creation_timestamp=1721856681431, description='Current accuracy: 78%', last_updated_timestamp=1721856681620, latest_versions=[<ModelVersion: aliases=[], creation_timestamp=1721856681540, current_stage='None', description='', last_updated_timestamp=1721856681540, name='random', run_id='4c1ee4c2854f492d84bcf1bf7ad16801', run_link='', source='file:///C:/Users/sudwa/Desktop/mlops-credit-card-risk/notebook/artifacts/5/4c1ee4c2854f492d84bcf1bf7ad16801/artifacts/model', status='READY', status_message='', tags={}, user_id='', version='1'>], name='random', tags={}>"
      ]
     },
     "execution_count": 26,
     "metadata": {},
     "output_type": "execute_result"
    }
   ],
   "source": [
    "# register the best model\n",
    "run_id = best_run.info.run_id\n",
    "model_uri = f\"runs:/{run_id}/model\"\n",
    "model_accuracy = round(best_run.data.metrics[\"score\"] * 100)\n",
    "model_details = mlflow.register_model(model_uri=model_uri, name=MODEL_NAME)\n",
    "client.update_registered_model(\n",
    "    name=model_details.name, description=f\"Current accuracy: {model_accuracy}%\"\n",
    "    )"
   ]
  },
  {
   "cell_type": "code",
   "execution_count": 32,
   "id": "7d1d3ebb",
   "metadata": {},
   "outputs": [
    {
     "name": "stderr",
     "output_type": "stream",
     "text": [
      "C:\\Users\\sudwa\\AppData\\Local\\Temp\\ipykernel_19304\\2607379132.py:3: FutureWarning: ``mlflow.tracking.client.MlflowClient.get_latest_versions`` is deprecated since 2.9.0. Model registry stages will be removed in a future major release. To learn more about the deprecation of model registry stages, see our migration guide here: https://mlflow.org/docs/latest/model-registry.html#migrating-from-stages\n",
      "  latest_versions = client.get_latest_versions(MODEL_NAME, stages=[\"None\"])\n",
      "C:\\Users\\sudwa\\AppData\\Local\\Temp\\ipykernel_19304\\2607379132.py:10: FutureWarning: ``mlflow.tracking.client.MlflowClient.transition_model_version_stage`` is deprecated since 2.9.0. Model registry stages will be removed in a future major release. To learn more about the deprecation of model registry stages, see our migration guide here: https://mlflow.org/docs/latest/model-registry.html#migrating-from-stages\n",
      "  client.transition_model_version_stage(\n"
     ]
    },
    {
     "data": {
      "text/plain": [
       "<ModelVersion: aliases=[], creation_timestamp=1721856681540, current_stage='Production', description='The model version 1 was transitioned to Production.', last_updated_timestamp=1721856994322, name='random', run_id='4c1ee4c2854f492d84bcf1bf7ad16801', run_link='', source='file:///C:/Users/sudwa/Desktop/mlops-credit-card-risk/notebook/artifacts/5/4c1ee4c2854f492d84bcf1bf7ad16801/artifacts/model', status='READY', status_message='', tags={}, user_id='', version='1'>"
      ]
     },
     "execution_count": 32,
     "metadata": {},
     "output_type": "execute_result"
    }
   ],
   "source": [
    "MODEL_NAME = \"random\"\n",
    "client = MlflowClient()\n",
    "latest_versions = client.get_latest_versions(MODEL_NAME, stages=[\"None\"])\n",
    "latest_versions\n",
    "\n",
    "for version in latest_versions:\n",
    "        model_version = version.version\n",
    "# Move the registered model to stage\n",
    "new_stage = \"Production\"\n",
    "client.transition_model_version_stage(\n",
    "    name=MODEL_NAME,\n",
    "    version=model_version,\n",
    "    stage=new_stage,\n",
    "    archive_existing_versions=False,\n",
    ")\n",
    "client.update_model_version(\n",
    "    name=MODEL_NAME,\n",
    "    version=model_version,\n",
    "    description=f\"The model version {model_version} was transitioned to {new_stage}.\",\n",
    ")"
   ]
  },
  {
   "cell_type": "code",
   "execution_count": null,
   "id": "0e89d7bd",
   "metadata": {},
   "outputs": [],
   "source": []
  }
 ],
 "metadata": {
  "kernelspec": {
   "display_name": "Python 3 (ipykernel)",
   "language": "python",
   "name": "python3"
  },
  "language_info": {
   "codemirror_mode": {
    "name": "ipython",
    "version": 3
   },
   "file_extension": ".py",
   "mimetype": "text/x-python",
   "name": "python",
   "nbconvert_exporter": "python",
   "pygments_lexer": "ipython3",
   "version": "3.11.7"
  }
 },
 "nbformat": 4,
 "nbformat_minor": 5
}
